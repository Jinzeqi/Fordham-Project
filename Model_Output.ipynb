{
 "cells": [
  {
   "cell_type": "markdown",
   "metadata": {},
   "source": [
    "# This is Model Output file. From python to database."
   ]
  },
  {
   "cell_type": "code",
   "execution_count": null,
   "metadata": {},
   "outputs": [],
   "source": [
    "def Result_Output(run_id,features,Ret_predict,Ret_MSE):\n",
    "    import pyodbc\n",
    "    conn=pyodbc.connect(\"Driver={SQL Server};\" \"Server=WIN-D32624325Z\\SQLEXPRESS;\"\n",
    "                        \"Database=master;\" \"Trusted_Connection=yes;\")\n",
    "    cursor=conn.cursor()\n",
    "    \n",
    "    n_features = len(features)\n",
    "    \n",
    "    # export Predictor\n",
    "    run_id = [1] * n_features\n",
    "    for i in range(n_features):\n",
    "        cursor.execute(\"INSERT INTO Predictor([Run_id],[Ticker]) values (?,?)\",\n",
    "                       run_id[i],features[i])\n",
    "    \n",
    "    # export Pred_Ret\n",
    "    run_id = [1] * len(Ret_predict) * len(Ret_predict.columns)\n",
    "    for i in range(len(Ret_predict.columns)):\n",
    "        for j in range(len(Ret_predict)):\n",
    "            cursor.execute(\"INSERT INTO Pred_Ret([Run_id],[Ticker],[AsofDate]\"\n",
    "                           +\",[Pre_ret]) values (?,?,?,?)\",run_id[i+j]\n",
    "                           ,Ret_predict.columns[i],Ret_predict.index[j]\"\n",
    "                           ,Ret_predict[Ret_predict.columns[i]][j])\n",
    "    \n",
    "    # export Pred_Mse\n",
    "    run_id = [1] * len(Ret_predict.columns)\n",
    "    for i in range(len(Ret_predict.columns)):\n",
    "        cursor.execute(\"INSERT INTO Pred_Mse([Run_id],[Ticker],[Mse]) values (?,?,?)\",\n",
    "                       run_id[i],Ret_predict.columns[i],Ret_MSE[i])\n",
    "    \n",
    "    # export Run_result\n",
    "    run_id = 1\n",
    "    Min_mse = min(Ret_MSE)\n",
    "    Min_ticker = Ret_predict.columns[Ret_MSE.index(Min_mse)]\n",
    "    cursor.execute(\"INSERT INTO Run_result([Run_id],[Ticker],[Min_mse]) values (?,?,?)\"\n",
    "                   ,run_id,Min_ticker,Min_mse)"
   ]
  },
  {
   "cell_type": "code",
   "execution_count": null,
   "metadata": {},
   "outputs": [],
   "source": [
    "def User_Output(run_id, train_period, test_period, start_date, end_date):\n",
    "    # Build connection with Database\n",
    "    import pyodbc\n",
    "    conn=pyodbc.connect(\"Driver={SQL Server};\" \"Server=WIN-D32624325Z\\SQLEXPRESS;\" \n",
    "                        \"Database=master;\" \"Trusted_Connection=yes;\")\n",
    "    cursor=conn.cursor()\n",
    "    # Insert data into database \n",
    "    cursor.execute(\"INSERT INTO Run([Run_id],[Train_Period],[Test_Period],\"\n",
    "                   + \"[Start_Date],[End_Date]) values (?,?,?,?,?)\"\n",
    "                    ,run_id,train_period,test_period,start_date,end_date)"
   ]
  },
  {
   "cell_type": "code",
   "execution_count": null,
   "metadata": {},
   "outputs": [],
   "source": [
    "def Price_Output(close):\n",
    "    # Build connection with Database\n",
    "    import pyodbc\n",
    "    conn=pyodbc.connect(\"Driver={SQL Server};\" \"Server=WIN-D32624325Z\\SQLEXPRESS;\" \n",
    "                        \"Database=master;\" \"Trusted_Connection=yes;\")\n",
    "    cursor=conn.cursor()\n",
    "    # Insert price data into database\n",
    "    for i in range(len(Close.columns)):\n",
    "        for j in range(len(Close)):\n",
    "            cursor.execute(\"INSERT INTO Stock([Ticker],[AsofDate],[Price])\" \n",
    "                           + \"values (?,?,?)\", Close.columns[i], Close.index[j]\n",
    "                           , Close[Close.columns[i]][j]) "
   ]
  }
 ],
 "metadata": {
  "kernelspec": {
   "display_name": "Python 3",
   "language": "python",
   "name": "python3"
  },
  "language_info": {
   "codemirror_mode": {
    "name": "ipython",
    "version": 3
   },
   "file_extension": ".py",
   "mimetype": "text/x-python",
   "name": "python",
   "nbconvert_exporter": "python",
   "pygments_lexer": "ipython3",
   "version": "3.6.5"
  }
 },
 "nbformat": 4,
 "nbformat_minor": 2
}
