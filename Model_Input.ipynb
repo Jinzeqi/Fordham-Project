{
 "cells": [
  {
   "cell_type": "markdown",
   "metadata": {},
   "source": [
    "# This is Model Input file. From database to python."
   ]
  },
  {
   "cell_type": "code",
   "execution_count": null,
   "metadata": {},
   "outputs": [],
   "source": [
    "def Data_Input(run_id):\n",
    "    \n",
    "    import pandas as pd\n",
    "    import pyodbc\n",
    "    \n",
    "    # connect database\n",
    "    conn=pyodbc.connect(\"Driver={SQL Server};\" \"Server=WIN-D21B624326M\\SQLEXPRESS;\" \n",
    "                        \"Database=master;\" \"Trusted_Connection=yes;\")\n",
    "    \n",
    "    # querry for Start_Date, End_Date,Train_Period,Test_Period from 'Run' table\n",
    "    query_dates = \"SELECT Start_Date, End_Date,Train_Period,Test_Period FROM Run \"\n",
    "    + \"WHERE Run_id = '\" + str(run_id) + \"'\" \n",
    "    df_dates = pd.read_sql(query_dates,conn)\n",
    "    \n",
    "    # get price data from 'Stock' db\n",
    "    query_price=\"SELECT * FROM Stock WHERE AsofDate BETWEEN '\" \n",
    "    + df_dates['Start_Date'][0] + \"' AND '\" + df_dates['End_Date'][0] + \"'\" \n",
    "    df_price = pd.read_sql(query_price,conn)\n",
    "    \n",
    "    # return dictionary containing datae and price\n",
    "    data = {}\n",
    "    data['df_dates'] = df_dates\n",
    "    data['df_price'] = df_price\n",
    "    return(data)"
   ]
  }
 ],
 "metadata": {
  "kernelspec": {
   "display_name": "Python 3",
   "language": "python",
   "name": "python3"
  },
  "language_info": {
   "codemirror_mode": {
    "name": "ipython",
    "version": 3
   },
   "file_extension": ".py",
   "mimetype": "text/x-python",
   "name": "python",
   "nbconvert_exporter": "python",
   "pygments_lexer": "ipython3",
   "version": "3.6.5"
  }
 },
 "nbformat": 4,
 "nbformat_minor": 2
}
