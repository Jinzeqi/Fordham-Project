{
 "cells": [
  {
   "cell_type": "markdown",
   "metadata": {},
   "source": [
    "# This is Main file, containing all the work flow."
   ]
  },
  {
   "cell_type": "markdown",
   "metadata": {},
   "source": [
    "## Python & SQL & Machine Learning Project\n",
    "### Use Decision Tree regression:\n",
    "\t1. Select 10 stocks as independent variables to predict stocks return for the left 2990 stocks\n",
    "\t2. Training sample should be at least 300 daily returns, and test sample at least 200 days.\n",
    "\t3. Determine which stock has the smallest out-of-sample RMSE\n",
    "    4. Data Retrieval\n",
    "     Get data from data source from yahoo\n",
    "     Save data to the database\n",
    "     Output result to DB\n",
    "\n",
    "\n"
   ]
  },
  {
   "cell_type": "markdown",
   "metadata": {},
   "source": [
    "### 1. Import Packages"
   ]
  },
  {
   "cell_type": "code",
   "execution_count": 1,
   "metadata": {},
   "outputs": [],
   "source": [
    "import pandas as pd\n",
    "import numpy as np\n",
    "from sklearn.tree import DecisionTreeRegressor\n",
    "import math as mh\n",
    "import fix_yahoo_finance as yf\n",
    "import datetime\n",
    "import pyodbc"
   ]
  },
  {
   "cell_type": "markdown",
   "metadata": {},
   "source": [
    "### 2. Read Russel 3000 tickers from Local file"
   ]
  },
  {
   "cell_type": "code",
   "execution_count": null,
   "metadata": {},
   "outputs": [],
   "source": [
    "# read tickers from csv\n",
    "symbol = pd.read_csv(\"symbol.csv\")\n",
    "# reset column names\n",
    "symbol.columns = ['Company','Ticker']\n",
    "# get ticker list \n",
    "ticker = list(symbol['Ticker'])"
   ]
  },
  {
   "cell_type": "markdown",
   "metadata": {},
   "source": [
    "### 3. Retrive data from yahoo finance "
   ]
  },
  {
   "cell_type": "code",
   "execution_count": null,
   "metadata": {},
   "outputs": [],
   "source": [
    "#retrive data for last two years from fix_yahoo_finance\n",
    "stocks = ticker\n",
    "start = datetime.date(2016,12,10)\n",
    "end = datetime.date(2018,12,10)\n",
    "data = yf.download(stocks, start=start, end=end)\n",
    "# get close price from dataframe 'data'\n",
    "Close_data = data.Close\n",
    "# drop data with NA value for the last two years\n",
    "Close = Close_data.dropna(axis = 'columns')"
   ]
  },
  {
   "cell_type": "markdown",
   "metadata": {},
   "source": [
    "### 4. Export user-input and original price data from python to database  "
   ]
  },
  {
   "cell_type": "code",
   "execution_count": null,
   "metadata": {},
   "outputs": [],
   "source": [
    "from Model_Output import User_Output, Price_Output\n",
    "# set user-input data\n",
    "run_id = 1\n",
    "train_period = 300\n",
    "test_period = 200\n",
    "start_date = '2016-12-10'\n",
    "end_date = '2018-12-10'\n",
    "\n",
    "# export user-input data\n",
    "User_Output(run_id, train_period, test_period, start_date, end_date)"
   ]
  },
  {
   "cell_type": "code",
   "execution_count": null,
   "metadata": {},
   "outputs": [],
   "source": [
    "# export price data \n",
    "Price_Output(Close)"
   ]
  },
  {
   "cell_type": "markdown",
   "metadata": {},
   "source": [
    "### 5. Import user-input data and price data from database to python "
   ]
  },
  {
   "cell_type": "code",
   "execution_count": null,
   "metadata": {},
   "outputs": [],
   "source": [
    "from Model_Input import Data_Input\n",
    "\n",
    "# set the test run_id as 1\n",
    "run_test = 1\n",
    "\n",
    "# Notes: Each run_id is unique. It contains all the unique information for this run.\n",
    "# This means we only need one parameter to get data we need.\n",
    "\n",
    "# Get one dataframe contaning price data from DB\n",
    "price_db = Data_Input(run_test)['df_price']\n",
    "# Get one dataframe contaning user-input data from DB\n",
    "# Data includes Start_Date, End_Date,Train_Period,Test_Period\n",
    "user_db = Data_Input(run_test)['df_dates']"
   ]
  },
  {
   "cell_type": "markdown",
   "metadata": {},
   "source": [
    "### 6. Prepare data for regression training "
   ]
  },
  {
   "cell_type": "code",
   "execution_count": null,
   "metadata": {},
   "outputs": [],
   "source": [
    "# Convert DB dataframe to new dataframe where all columns' names are tickers\n",
    "# get all stock tickers\n",
    "price_db_tickers = list(set(price_db['Ticker']))\n",
    "# get all dates(use set to get unique value)\n",
    "price_db_dates = list(set(price_db['AsofDate']))\n",
    "# get the new Price dictionary where keys are tickers and values are their prices\n",
    "Db_data = {}\n",
    "for i in range(len(price_db_tickers)):\n",
    "    Db_data[price_db_tickers[i]] = []\n",
    "    for j in range(len(price_db_dates)):\n",
    "        temp_p = price_db.loc[(price_db['Ticker'] == price_db_tickers[i]) & \n",
    "                              (price_db['AsofDate'] == price_db_dates[j])]\n",
    "        Db_data[price_db_tickers[i]].append(temp_p['Price'])\n",
    "# transform dictionary to dataframe\n",
    "Db_data = pd.DataFrame(Db_data)        "
   ]
  },
  {
   "cell_type": "code",
   "execution_count": null,
   "metadata": {},
   "outputs": [],
   "source": [
    "# Convert price data into log return data\n",
    "Log_ret =  np.log(Db_data / Db_data.shift(1))\n",
    "# drop na values in rows\n",
    "Ori_data = Log_ret.dropna(axis = 'rows')\n",
    "# Get all the ticker names\n",
    "col_names = list(Ori_data.columns)\n",
    "# Get the number of dates\n",
    "n_row = len(Ori_data)\n",
    "# Get all the dates and convert into string types\n",
    "Ori_date = list(Ori_data.index) \n",
    "for i in range(n_row):\n",
    "    Ori_date[i] = str(Ori_date[i].date())"
   ]
  },
  {
   "cell_type": "code",
   "execution_count": null,
   "metadata": {},
   "outputs": [],
   "source": [
    "# get the selected prdictors from csv file\n",
    "f_symbol = pd.read_csv(\"SELECT.csv\")\n",
    "features = list(f_symbol['TICKER'])\n",
    "# get the left dependent variables\n",
    "dependents = [i for i in col_names if i not in features]\n",
    "# get the number of features and dependent variables\n",
    "n_predicor = len(dependents)"
   ]
  },
  {
   "cell_type": "markdown",
   "metadata": {},
   "source": [
    "### 7. Use Desicion Tree Regression model to train the data"
   ]
  },
  {
   "cell_type": "code",
   "execution_count": 8,
   "metadata": {},
   "outputs": [],
   "source": [
    "# define a function to calculate the RMSE for returns\n",
    "def calc_mse(l1,l2):\n",
    "    length = len(l1)\n",
    "    mse = 0\n",
    "    for i in range(length):\n",
    "        mse = mse + mh.pow((l1[i]-l2[i]),2)\n",
    "    return(mh.sqrt(mse))"
   ]
  },
  {
   "cell_type": "code",
   "execution_count": null,
   "metadata": {},
   "outputs": [],
   "source": [
    "# train the model\n",
    "# set the predicted return as a dictionary(further into a dataframe)\n",
    "Ret_predict = {}\n",
    "# set the predicted return MSE as a list\n",
    "Ret_MSE = []"
   ]
  },
  {
   "cell_type": "code",
   "execution_count": null,
   "metadata": {},
   "outputs": [],
   "source": [
    "# get the number of training period\n",
    "t_p = user_db['Train_Period'][0]\n",
    "s_p = user_db['Test_Period'][0]"
   ]
  },
  {
   "cell_type": "code",
   "execution_count": null,
   "metadata": {},
   "outputs": [],
   "source": [
    "# use last day return to predict next day return using pre-selected stocks\n",
    "# seperate training set and testing set for independent variables\n",
    "x_train = np.array(Ori_data[features][:t_p])\n",
    "x_train = np.reshape(x_train,(t_p,len(features)))\n",
    "x_test = np.array(Ori_data[features][t_p+1: t_p+s_p])\n",
    "# using selected stocks to train each stock left\n",
    "for i in range(n_predicor):\n",
    "    # seperate training set and testing set for each dependent variables\n",
    "    y_train = np.array(list(Ori_data[dependents[i]])[1:t_p + 1])\n",
    "    y_test = np.array(list(Ori_data[dependents[i]])[t_p + 2 : t_p+s_p+1])\n",
    "    # run regression tree model\n",
    "    regr = DecisionTreeRegressor(max_depth=10)\n",
    "    # model fitting\n",
    "    regr.fit(x_train, y_train)\n",
    "    # model prediction\n",
    "    y_pre = regr.predict(x_test)\n",
    "    # get dictionary for return prediction\n",
    "    Ret_predict[dependents[i]] = y_pre \n",
    "    # get the list for MSE value \n",
    "    Ret_MSE.append(calc_mse(y_test,y_pre))\n",
    "# get the dataframe for Return prediction    \n",
    "Ret_predict = pd.DataFrame(Ret_predict,index = Ori_data.index[t_p + 2 : t_p+s_p+1]"
   ]
  },
  {
   "cell_type": "markdown",
   "metadata": {},
   "source": [
    "### 8. Export return prediction and mse value from python to database  "
   ]
  },
  {
   "cell_type": "code",
   "execution_count": null,
   "metadata": {},
   "outputs": [],
   "source": [
    "# Model result export\n",
    "from Model_Output import Result_Output\n",
    "Result_Output(run_id,features,Ret_predict,Ret_MSE)"
   ]
  }
 ],
 "metadata": {
  "kernelspec": {
   "display_name": "Python 3",
   "language": "python",
   "name": "python3"
  },
  "language_info": {
   "codemirror_mode": {
    "name": "ipython",
    "version": 3
   },
   "file_extension": ".py",
   "mimetype": "text/x-python",
   "name": "python",
   "nbconvert_exporter": "python",
   "pygments_lexer": "ipython3",
   "version": "3.6.5"
  }
 },
 "nbformat": 4,
 "nbformat_minor": 2
}
